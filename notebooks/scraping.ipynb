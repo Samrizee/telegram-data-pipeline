{
 "cells": [
  {
   "cell_type": "markdown",
   "metadata": {},
   "source": [
    "## Telegram Scrape Test\n"
   ]
  },
  {
   "cell_type": "code",
   "execution_count": 18,
   "id": "9363dd86",
   "metadata": {},
   "outputs": [],
   "source": [
    "import sys\n",
    "import asyncio\n",
    "from pathlib import Path\n",
    "\n",
    "proj = Path().resolve().parent\n",
    "if str(proj) not in sys.path:\n",
    "    sys.path.append(str(proj))\n",
    "\n"
   ]
  },
  {
   "cell_type": "code",
   "execution_count": 19,
   "id": "cd969d3b",
   "metadata": {},
   "outputs": [
    {
     "name": "stdout",
     "output_type": "stream",
     "text": [
      "Done scraping and saving!\n"
     ]
    }
   ],
   "source": [
    "from telethon.sync import TelegramClient\n",
    "from pathlib import Path\n",
    "from datetime import datetime\n",
    "import json\n",
    "\n",
    "\n",
    "\n",
    "api_id = 23969142\n",
    "api_hash = \"63cfef12e419c6f4a413724fccd8dda9\"\n",
    "\n",
    "client = TelegramClient('session', api_id, api_hash)\n",
    "\n",
    "async def collect_from_channel(channel_username, log_messages):\n",
    "    await client.start()\n",
    "    log_messages.append(f\"📥 Scraping messages from {channel_username}...\")\n",
    "\n",
    "    all_data = []\n",
    "\n",
    "    try:\n",
    "        async for msg in client.iter_messages(channel_username, limit=15):\n",
    "            message_data = {\n",
    "                \"id\": msg.id,\n",
    "                \"date\": msg.date.strftime(\"%Y-%m-%d %H:%M:%S\"),\n",
    "                \"text\": msg.text if msg.text else None,\n",
    "                \"media\": []\n",
    "            }\n",
    "\n",
    "            if msg.media:\n",
    "                media_folder = Path(\"/home/samrawit/telegram-data-pipeline/data/raw/Image\") / datetime.now().strftime(\"%Y-%m-%d\")\n",
    "                media_folder.mkdir(parents=True, exist_ok=True)\n",
    "\n",
    "                media_file_path = await msg.download_media(file=media_folder)\n",
    "                message_data['media'].append(str(media_file_path))\n",
    "                log_messages.append(f\"📸 Downloaded media for message ID {msg.id}\")\n",
    "\n",
    "            all_data.append(message_data)\n",
    "\n",
    "        log_messages.append(f\"✅ Scraped {len(all_data)} messages from {channel_username}.\")\n",
    "\n",
    "        if not all_data:\n",
    "            log_messages.append(f\"⚠️ No messages found in {channel_username} — nothing to save.\")\n",
    "            return\n",
    "\n",
    "        folder = Path(\"/home/samrawit/telegram-data-pipeline/data/raw\") / datetime.now().strftime(\"%Y-%m-%d\")\n",
    "        folder.mkdir(parents=True, exist_ok=True)\n",
    "        out_file = folder / f\"{channel_username}.json\"\n",
    "\n",
    "        with open(out_file, \"w\", encoding=\"utf-8\") as f:\n",
    "            json.dump(all_data, f, indent=2, ensure_ascii=False)\n",
    "        log_messages.append(f\"✅ Saved to {out_file}\")\n",
    "\n",
    "    except Exception as e:\n",
    "        log_messages.append(f\"❌ Error while scraping or saving from {channel_username}: {e}\")\n",
    "\n",
    "    finally:\n",
    "        await client.disconnect()\n",
    "\n",
    "async def main():\n",
    "    log_messages = []\n",
    "    await collect_from_channel(\"lobelia4cosmetics\", log_messages)\n",
    "    await collect_from_channel(\"tikvahpharma\", log_messages)\n",
    "    \n",
    "    # Log all messages at once after scraping\n",
    "    with open('scraper.log', 'a', encoding='utf-8') as log_file:\n",
    "        for message in log_messages:\n",
    "            log_file.write(f\"{message}\\n\")\n",
    "\n",
    "await main()\n",
    "print(\"Done scraping and saving!\")"
   ]
  }
 ],
 "metadata": {
  "kernelspec": {
   "display_name": "base",
   "language": "python",
   "name": "python3"
  },
  "language_info": {
   "codemirror_mode": {
    "name": "ipython",
    "version": 3
   },
   "file_extension": ".py",
   "mimetype": "text/x-python",
   "name": "python",
   "nbconvert_exporter": "python",
   "pygments_lexer": "ipython3",
   "version": "3.12.7"
  }
 },
 "nbformat": 4,
 "nbformat_minor": 5
}
